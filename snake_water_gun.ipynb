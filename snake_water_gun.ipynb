{
  "nbformat": 4,
  "nbformat_minor": 0,
  "metadata": {
    "colab": {
      "provenance": []
    },
    "kernelspec": {
      "name": "python3",
      "display_name": "Python 3"
    },
    "language_info": {
      "name": "python"
    }
  },
  "cells": [
    {
      "cell_type": "code",
      "execution_count": 2,
      "metadata": {
        "colab": {
          "base_uri": "https://localhost:8080/"
        },
        "id": "Hg8LkoCUXYB8",
        "outputId": "163248a8-73b3-4fbe-ad5d-6aa567ff8a50"
      },
      "outputs": [
        {
          "output_type": "stream",
          "name": "stdout",
          "text": [
            "comp turn: snake water gun?\n",
            "your turn: snake water gunsnake\n",
            "computer chose  snake\n",
            "your chose. snake\n",
            "TIE\n"
          ]
        }
      ],
      "source": [
        "#snake water gun (or) stone paper scissors\n",
        "import random\n",
        "def gamewin(comp,you):\n",
        "    if comp == you:\n",
        "        return None\n",
        "    elif comp=='snake':\n",
        "        if you=='water':\n",
        "            return False\n",
        "        elif you=='gun':\n",
        "            return True\n",
        "    elif comp=='water':\n",
        "        if you=='gun':\n",
        "            return False\n",
        "        elif you=='snake':\n",
        "            return True\n",
        "    elif comp=='gun':\n",
        "        if you=='snake':\n",
        "            return False\n",
        "        elif you=='water':\n",
        "            return True\n",
        "print(\"comp turn: snake water gun?\")\n",
        "randNo=random.randint(1,3)\n",
        "if randNo==1:\n",
        "    comp='snake'\n",
        "elif randNo==2:\n",
        "    comp='water'\n",
        "elif randNo==3:\n",
        "    comp='gun'\n",
        "you=input(\"your turn: snake water gun\")\n",
        "a=gamewin(comp,you)\n",
        "print(f\"computer chose  {comp}\")\n",
        "print(f\"your chose. {you}\")\n",
        "if a==None:\n",
        "    print(\"TIE\")\n",
        "elif a:\n",
        "    print(\"YOU WIN\")\n",
        "else:\n",
        "    print(\"YOU LOSE\")\n"
      ]
    },
    {
      "cell_type": "code",
      "source": [
        "#snake water gun (or) stone paper scissors\n",
        "import random\n",
        "def gamewin(comp,you):\n",
        "    if comp == you:\n",
        "        return None\n",
        "    elif comp=='snake':\n",
        "        if you=='water':\n",
        "            return False\n",
        "        elif you=='gun':\n",
        "            return True\n",
        "    elif comp=='water':\n",
        "        if you=='gun':\n",
        "            return False\n",
        "        elif you=='snake':\n",
        "            return True\n",
        "    elif comp=='gun':\n",
        "        if you=='snake':\n",
        "            return False\n",
        "        elif you=='water':\n",
        "            return True\n",
        "print(\"comp turn: snake water gun?\")\n",
        "randNo=random.randint(1,3)\n",
        "if randNo==1:\n",
        "    comp='snake'\n",
        "elif randNo==2:\n",
        "    comp='water'\n",
        "elif randNo==3:\n",
        "    comp='gun'\n",
        "you=input(\"your turn: snake water gun\")\n",
        "a=gamewin(comp,you)\n",
        "print(f\"computer chose  {comp}\")\n",
        "print(f\"your chose. {you}\")\n",
        "if a==None:\n",
        "    print(\"TIE\")\n",
        "elif a:\n",
        "    print(\"YOU WIN\")\n",
        "else:\n",
        "    print(\"YOU LOSE\")\n"
      ],
      "metadata": {
        "colab": {
          "base_uri": "https://localhost:8080/"
        },
        "id": "Fy24N60eX6jP",
        "outputId": "8595cc47-85c5-4246-a120-63d552316654"
      },
      "execution_count": 6,
      "outputs": [
        {
          "output_type": "stream",
          "name": "stdout",
          "text": [
            "comp turn: snake water gun?\n",
            "your turn: snake water gungun\n",
            "computer chose  water\n",
            "your chose. gun\n",
            "YOU LOSE\n"
          ]
        }
      ]
    },
    {
      "cell_type": "code",
      "source": [
        "#snake water gun (or) stone paper scissors\n",
        "import random\n",
        "def gamewin(comp,you):\n",
        "    if comp == you:\n",
        "        return None\n",
        "    elif comp=='snake':\n",
        "        if you=='water':\n",
        "            return False\n",
        "        elif you=='gun':\n",
        "            return True\n",
        "    elif comp=='water':\n",
        "        if you=='gun':\n",
        "            return False\n",
        "        elif you=='snake':\n",
        "            return True\n",
        "    elif comp=='gun':\n",
        "        if you=='snake':\n",
        "            return False\n",
        "        elif you=='water':\n",
        "            return True\n",
        "print(\"comp turn: snake water gun?\")\n",
        "randNo=random.randint(1,3)\n",
        "if randNo==1:\n",
        "    comp='snake'\n",
        "elif randNo==2:\n",
        "    comp='water'\n",
        "elif randNo==3:\n",
        "    comp='gun'\n",
        "you=input(\"your turn: snake water gun\")\n",
        "a=gamewin(comp,you)\n",
        "print(f\"computer chose  {comp}\")\n",
        "print(f\"your chose. {you}\")\n",
        "if a==None:\n",
        "    print(\"TIE\")\n",
        "elif a:\n",
        "    print(\"YOU WIN\")\n",
        "else:\n",
        "    print(\"YOU LOSE\")\n"
      ],
      "metadata": {
        "colab": {
          "base_uri": "https://localhost:8080/"
        },
        "id": "HOE5JRzPYVxb",
        "outputId": "f4ab77e5-40c5-4b91-8a4f-1a00f9c995d9"
      },
      "execution_count": 7,
      "outputs": [
        {
          "output_type": "stream",
          "name": "stdout",
          "text": [
            "comp turn: snake water gun?\n",
            "your turn: snake water gunwater\n",
            "computer chose  gun\n",
            "your chose. water\n",
            "YOU WIN\n"
          ]
        }
      ]
    }
  ]
}